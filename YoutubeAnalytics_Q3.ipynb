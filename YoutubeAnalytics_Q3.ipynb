{
  "cells": [
    {
      "cell_type": "markdown",
      "metadata": {
        "id": "1SiBOWa1m6Ib"
      },
      "source": [
        "##Question 3\n",
        "\n",
        "Design a Python program that analyzes the social media presence of content creator on YouTube. The program will utilize the APIs of Youtube, specifically the  Data API, to fetch relevant data for analysis.\n",
        "\n",
        "It should retrieve channel metrics from Youtube API\n",
        "* Subscriber count\n",
        "* Video views\n",
        "* Publishing Time\n",
        "* Likes\n",
        "\n",
        "Using the above metrics calculate\n",
        "* Engagement rate = likes / views\n",
        "* Video publishing frequency  - videos / month\n",
        "* Optimal publishing time - 4 hour slots as 0-4,4-8,8-12,12-16,16-20,20-24\n",
        "\n",
        "####Input  \n",
        "Adobe creative cloud channel\n",
        "```  AdobeCreativeCloud ```\n",
        "\n",
        "####Output\n",
        "```\n",
        "{\n",
        "  \"topPerformingVideos\": [\n",
        "    { 'id' : 'videoId1',   \"engagementRate\": .7},\n",
        "    { 'id' : 'videoId2',   \"engagementRate\": .8},\n",
        "    { 'id' : 'videoId3',   \"engagementRate\": .2},\n",
        "    { 'id' : 'videoId4',   \"engagementRate\": .8},\n",
        "    { 'id' : 'videoId5',   \"engagementRate\": .1}\n",
        "  ],\n",
        "  \"subscriberCount\": 1234,\n",
        "  \"videoViews\": 1234,\n",
        "  \"PublishingFrequency\" : 2\n",
        "  \"optimalPublishingTime\": 8-12,\n",
        "}\n",
        "```\n",
        "\n",
        "Additionally, the program should identify the top-performing videos based on factors likes, comments and shares.\n",
        "\n",
        "Finally, the program should suggest optimal posting times to increase engagement rate.\n",
        "How can the program effectively present these insights in a clear and organized manner to assist influencers in optimizing their social media presence on YouTube? [50]\n",
        "\n",
        "### Additional information\n",
        "1. For installation of libraries refer - https://colab.research.google.com/notebooks/snippets/importing_libraries.ipynb\n",
        "2. Take Adobe's Youtube channel id `AdobeCreativeCloud` as input for analysis\n",
        "3. Use `googleapiclient.discovery` library to retrieve data about the channel, this comes built into google collab and no need to install.\n",
        "    * Use this command block to import library `from googleapiclient.discovery import build`\n",
        "    * How to get API Keys to use Youtube APIs\n",
        "        1. Sign into your gmail first\n",
        "        2. In another tab open https://console.cloud.google.com/apis/library/youtube.googleapis.com\n",
        "        3. On the top left in the drop down select `Select a project`\n",
        "        4. Then create a project with name `adobe-school-ai-thon`\n",
        "        5. The click `Enable` (blue button) to enable the api for your project.\n",
        "        6. Once enabled, you'll see dashboard open with `Credentials tab`\n",
        "        7. Select `Credentials Tab` and click on `Create Credentials` and then `API Key`.\n",
        "        8. Copy your generated `API Key` and use it in your solution code.\n",
        "        \n",
        "    * Sample code to create client using the imported library ``` youtube_client = build(api_service_name, api_version, developerKey=api_key) ```\n",
        "    * Refer to the documentation of the library https://github.com/googleapis/google-api-python-client/blob/main/docs/start.md for making api calls using `youtube_client`\n",
        "    * Refer to the youtube developer api documentation which can help retrieve required data https://developers.google.com/youtube/v3/docs/?apix=true#Search\n",
        "\n",
        "\n",
        "\n"
      ]
    },
    {
      "cell_type": "code",
      "execution_count": null,
      "metadata": {
        "id": "HfN3FYbE1Jbv"
      },
      "outputs": [],
      "source": [
        "import os\n",
        "from googleapiclient.discovery import build\n",
        "\n",
        "#Do not change following 2 lines\n",
        "os.environ[\"OAUTHLIB_INSECURE_TRANSPORT\"] = \"1\"\n",
        "os.environ[\"OAUTHLIB_RELAX_TOKEN_SCOPE\"] = \"1\"\n",
        "\n",
        "# Set up API credentials\n",
        "API_KEY = \"{API KEY}\" #Change this to your own key\n",
        "\n",
        "# Build the YouTube API client\n",
        "api_service_name = \"youtube\"\n",
        "api_version = \"v3\"\n",
        "api_key = os.environ.get(\"API_KEY\")\n",
        "youtube_client = build(api_service_name, api_version, developerKey=API_KEY)\n",
        "\n",
        "\n",
        "#write your code to fetch details using youtube_client\n"
      ]
    },
    {
      "cell_type": "markdown",
      "metadata": {
        "id": "m-altAMgm5F0"
      },
      "source": []
    }
  ],
  "metadata": {
    "colab": {
      "provenance": []
    },
    "kernelspec": {
      "display_name": "Python 3",
      "name": "python3"
    },
    "language_info": {
      "name": "python"
    }
  },
  "nbformat": 4,
  "nbformat_minor": 0
}
