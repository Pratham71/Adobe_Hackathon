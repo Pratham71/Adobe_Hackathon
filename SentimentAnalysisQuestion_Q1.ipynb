{
  "nbformat": 4,
  "nbformat_minor": 0,
  "metadata": {
    "colab": {
      "provenance": []
    },
    "kernelspec": {
      "name": "python3",
      "display_name": "Python 3"
    },
    "language_info": {
      "name": "python"
    }
  },
  "cells": [
    {
      "cell_type": "markdown",
      "source": [
        "## Question 1\n",
        "Develop a Python program to perform sentiment analysis on a collection of customer reviews. You are allowed to use pre-trained language model or a sentiment analysis library. [20]\n",
        "\n",
        "**Example**\n",
        "\n",
        "```\n",
        "Input\n",
        "  \"The product exceeded my expectations. It's excellent!\",\n",
        "  \"I had a terrible experience with this company. The customer service was rude and unhelpful.\",\n",
        "  \"The quality of the product is average. It meets my basic requirements.\",\n",
        "  \"I absolutely love this product! It has improved my daily routine.\",\n",
        "\n",
        "Output - {'positive': 2, 'negative': 1, 'neutral': 1}\n",
        "\n",
        "*Output is a python dictionary with keys as positive, negative & neutral and value as the count of such reviews.\n",
        "\n",
        "Explanation -\n",
        "The product exceeded my expectations. It's excellent! ==> positive\n",
        "I had a terrible experience with this company. The customer service was rude and unhelpful. ==> negative\n",
        "The quality of the product is average. It meets my basic requirements. ==> neutral\n",
        "I absolutely love this product! It has improved my daily routine. ==> positive\n",
        "```\n",
        "\n",
        "### Additional information\n",
        "1. For installing a library e.g nltk use command block as  `!pip install nltk`, and run this before using any of it's functions.\n",
        "2. For installation of libraries refer - https://colab.research.google.com/notebooks/snippets/importing_libraries.ipynb\n",
        "3. Sample input file will be located at path `input/q1/reviews.txt`"
      ],
      "metadata": {
        "id": "_5f6VY16CKAQ"
      }
    },
    {
      "cell_type": "markdown",
      "source": [
        "## Solution"
      ],
      "metadata": {
        "id": "nUPOcNozOG7U"
      }
    },
    {
      "cell_type": "code",
      "source": [
        "file_path = \"input/q1/reviews.txt\"\n",
        "\n",
        "with open(file_path, \"r\") as file:\n",
        "    for line in file:\n",
        "        # Write sentiment analysis for each line here.\n",
        "        print(line)\n"
      ],
      "metadata": {
        "colab": {
          "base_uri": "https://localhost:8080/"
        },
        "id": "YoexPi6KdtG_",
        "outputId": "7aed54e4-2d91-48fa-8685-3a0abdfe1831"
      },
      "execution_count": 3,
      "outputs": [
        {
          "output_type": "stream",
          "name": "stdout",
          "text": [
            "The product exceeded my expectations. It's excellent\n",
            "\n",
            "I had a terrible experience with this company. The customer service was rude and unhelpful\n",
            "\n",
            "The quality of the product is average. It meets my basic requirements\n",
            "\n",
            "I absolutely love this product! It has improved my daily routine\n",
            "\n"
          ]
        }
      ]
    }
  ]
}