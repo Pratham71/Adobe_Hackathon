{
  "cells": [
    {
      "cell_type": "code",
      "execution_count": 1,
      "metadata": {
        "id": "LNGet2azwCjj"
      },
      "outputs": [
        {
          "name": "stdout",
          "output_type": "stream",
          "text": [
            "{'positive': 2, 'negative': 1, 'neutral': 1}\n"
          ]
        }
      ],
      "source": [
        "from vaderSentiment.vaderSentiment import SentimentIntensityAnalyzer\n",
        "\n",
        "\n",
        "def sentiment_scores(sentences):\n",
        "  # Makes a dict for keeping outputs\n",
        "    result = {\"positive\": 0, \"negative\": 0, \"neutral\": 0}\n",
        "    sid_obj = SentimentIntensityAnalyzer()\n",
        "    for sentence in sentences:\n",
        "      # Judges output\n",
        "        sentiment_dict = sid_obj.polarity_scores(sentence)\n",
        "\n",
        "        # On basis of judgement increses positive, negative or neutral\n",
        "        if sentiment_dict['compound'] >= 0.05:\n",
        "            result[\"positive\"] += 1\n",
        "\n",
        "        elif sentiment_dict['compound'] <= - 0.05:\n",
        "            result[\"negative\"] += 1\n",
        "\n",
        "        else:\n",
        "            result[\"neutral\"] += 1\n",
        "    print(result)\n",
        "\n",
        "\n",
        "sentences = []\n",
        "# Opens file\n",
        "with open(\"input/q1/reviews.txt\") as file:\n",
        "    for line in file:\n",
        "      # Makes a list for each file\n",
        "        sentences.append(line)\n",
        "\n",
        "# Calls function and prints output\n",
        "sentiment_scores(sentences)\n"
      ]
    },
    {
      "cell_type": "markdown",
      "metadata": {
        "id": "MX7SDF-7wV8o"
      },
      "source": []
    }
  ],
  "metadata": {
    "colab": {
      "provenance": []
    },
    "kernelspec": {
      "display_name": "Python 3",
      "name": "python3"
    },
    "language_info": {
      "codemirror_mode": {
        "name": "ipython",
        "version": 3
      },
      "file_extension": ".py",
      "mimetype": "text/x-python",
      "name": "python",
      "nbconvert_exporter": "python",
      "pygments_lexer": "ipython3",
      "version": "3.9.6"
    }
  },
  "nbformat": 4,
  "nbformat_minor": 0
}
