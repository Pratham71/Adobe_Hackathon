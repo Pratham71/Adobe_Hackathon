{
  "cells": [
    {
      "cell_type": "markdown",
      "metadata": {
        "id": "3-GuthsIfZpI"
      },
      "source": [
        "## Question 2\n",
        "\n",
        "Develop a Python program for a Fraud Detection System that analyses a file containing credit card information, timestamps, and locations to identify potential fraud alerts? You are provided with a dataset of credit card transactions. How can the program identify suspicious activities, such as multiple transactions from different locations which might be 20 or more Kilometers more apart and within 30 mins ? You can use any third part API to calculate the distance between two locations. [20]\n",
        "\n",
        "**Example - transactions.csv**\n",
        "\n",
        "| Card Number               | Amount      | Location       | Date/Time         |\n",
        "| -------------------------| ----------- | -------------- | ----------------- |\n",
        "| 4367-7878-8898-8989      | INR 1000    | Gurgaon        | 27/03/23 17:58    |\n",
        "| 4367-7878-8898-8189      | INR 2000    | Noida          | 27/03/23 17:59    |\n",
        "| 4367-7878-8898-8989      | INR 5000    | Noida          | 27/03/23 18:10    |\n",
        "\n",
        "Output: List of fraud entries\n",
        "```\n",
        "[\n",
        "  ['4367-7878-8898-8989', 'INR 1000', 'Gurgaon', '27/03/23 17:58'],\n",
        "  ['4367-7878-8898-8989', 'INR 5000', 'Noida', '27/03/23 18:10']\n",
        "]\n",
        "```\n",
        "\n",
        "\n",
        "### Additional information\n",
        "1. For installation of libraries refer - https://colab.research.google.com/notebooks/snippets/importing_libraries.ipynb\n",
        "2. Sample input file will be located at path `input/q2/transactions.csv`\n",
        "3. Csv file is a text file where each row has comma separated values.\n",
        "4. APIs that can be used to get coordinates of location\n",
        "  * OpenCage APIs - https://opencagedata.com/api\n",
        "  * How to use this api - follow quick start steps here https://opencagedata.com/api\n",
        "     1. Signup\n",
        "     2. Generate your API key - https://opencagedata.com/dashboard#geocoding\n",
        "     3. Use api https://api.opencagedata.com/geocode/v1/json?q={place}&key={OPENCAGEDATA_KEY}' in your code to get the coordinates for a location, replace `{place}` with name of the place and `{OPENCAGEDATA_KEY}` with your generated api-key in the api request.\n",
        "\n",
        "\n",
        "5. You can use library `geodesic` to calculate distance between two location coordinates, install by using command block `!pip install geodesic`\n",
        "\n"
      ]
    },
    {
      "cell_type": "code",
      "execution_count": 1,
      "metadata": {
        "id": "LozKNWR-5-vc"
      },
      "outputs": [
        {
          "name": "stdout",
          "output_type": "stream",
          "text": [
            "['4367-7878-8898-8989', 'INR 1000', 'Gurgaon', '27/03/23 17:58']\n",
            "['4367-7878-8898-8189', 'INR 2000', 'Noida', '27/03/23 17:59']\n",
            "['4367-7878-8898-8989', 'INR 5000', 'Noida', '27/03/23 18:10']\n"
          ]
        }
      ],
      "source": [
        "import csv\n",
        "\n",
        "with open('input/q2/transactions.csv', mode='r') as file:\n",
        "    reader = csv.reader(file)\n",
        "    for line in reader:\n",
        "        # Process each line in the csv here\n",
        "        print(line)"
      ]
    },
    {
      "cell_type": "markdown",
      "metadata": {
        "id": "frypKOGxfY2o"
      },
      "source": []
    }
  ],
  "metadata": {
    "colab": {
      "provenance": []
    },
    "kernelspec": {
      "display_name": "Python 3",
      "name": "python3"
    },
    "language_info": {
      "codemirror_mode": {
        "name": "ipython",
        "version": 3
      },
      "file_extension": ".py",
      "mimetype": "text/x-python",
      "name": "python",
      "nbconvert_exporter": "python",
      "pygments_lexer": "ipython3",
      "version": "3.9.6"
    }
  },
  "nbformat": 4,
  "nbformat_minor": 0
}
