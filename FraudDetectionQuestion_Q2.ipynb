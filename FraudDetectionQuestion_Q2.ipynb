{
  "cells": [
    {
      "cell_type": "code",
      "execution_count": 1,
      "metadata": {
        "colab": {
          "base_uri": "https://localhost:8080/",
          "height": 357
        },
        "id": "3pJPqvBRyfil",
        "outputId": "ab5ff211-7697-467d-b457-60bfbeff7de7"
      },
      "outputs": [
        {
          "name": "stdout",
          "output_type": "stream",
          "text": [
            "[['4367-7878-8898-8989', 'INR 1000', 'Gurgaon', '27/03/23 17:58'], ['4367-7878-8898-8989', 'INR 5000', 'Noida', '27/03/23 18:10']]\n"
          ]
        }
      ],
      "source": [
        "import csv\n",
        "import requests\n",
        "from geopy.distance import geodesic as gd\n",
        "from datetime import datetime\n",
        "\n",
        "\n",
        "def convert_into_datetime(trans):\n",
        "    for i in trans:\n",
        "        datetime_obj = datetime.strptime(i[-1], \"%d/%m/%y %H:%M\")\n",
        "        i[-1] = datetime_obj\n",
        "    return trans\n",
        "\n",
        "\n",
        "def dist_bw_location(transactions):\n",
        "    dist_above_20 = []\n",
        "    for i in transactions:\n",
        "        for j in transactions:\n",
        "            if i == j:\n",
        "                continue\n",
        "            if gd(i[3], j[3]).km >= 20 and i[1] == j[1]:\n",
        "                if ((i, j) not in dist_above_20) and ((j, i) not in dist_above_20):\n",
        "                    dist_above_20.append((i, j))\n",
        "    return dist_above_20\n",
        "\n",
        "def api_request(link):\n",
        "    response = requests.get(link)\n",
        "\n",
        "    if response.status_code == 200:\n",
        "        data = response.json()\n",
        "        return((data[\"results\"][0][\"geometry\"]['lat'],\n",
        "                data[\"results\"][0][\"geometry\"]['lng']))\n",
        "    else:\n",
        "        print(\"Error:\", response.status_code)\n",
        "\n",
        "\n",
        "def lat_long_convert(transactions):\n",
        "    # Make a GET request to the API\n",
        "    for i in transactions:\n",
        "        PLACE = i[3]\n",
        "        OPENCAGEDATA_KEY = \"7c9e9348137d423180ab7c3b2db55f4e\"\n",
        "        link = f\"https://api.opencagedata.com/geocode/v1/json?q={PLACE}&key={OPENCAGEDATA_KEY}\"\n",
        "        i[3] = api_request(link)\n",
        "    return transactions\n",
        "\n",
        "\n",
        "def read_csv():\n",
        "    f = []\n",
        "    with open(\"input/q2/transactions.csv\") as file:\n",
        "        lines = csv.reader(file)\n",
        "        counter = 0\n",
        "        for line in lines:\n",
        "            line.insert(0, counter)\n",
        "            f.append(line)\n",
        "            counter += 1\n",
        "    return f\n",
        "\n",
        "def time_diff(dist_above_20):\n",
        "    time_30_mins = []\n",
        "\n",
        "    for i in dist_above_20:\n",
        "        x = (i[0][4]-i[1][4]).total_seconds()/60\n",
        "        if x <= 30:\n",
        "            time_30_mins.append(i[0][0])\n",
        "            time_30_mins.append(i[1][0])\n",
        "    return time_30_mins\n",
        "\n",
        "def fraud(time_30_mins, transactions):\n",
        "    fraud_transaction = []\n",
        "    for i in transactions:\n",
        "        if i[0] in time_30_mins:\n",
        "            fraud_transaction.append(i[1:])\n",
        "\n",
        "    # Print\n",
        "    return fraud_transaction\n",
        "\n",
        "\n",
        "# Reading CSV file\n",
        "transac = read_csv()\n",
        "\n",
        "# Making time into datetime, Longitude & Latitude\n",
        "transac = convert_into_datetime(transac)\n",
        "\n",
        "# Convert Distance into Longitude & Latitude\n",
        "transac = lat_long_convert(transac)\n",
        "\n",
        "# Checking Distance Between location\n",
        "dist_above_20 = dist_bw_location(transac)\n",
        "\n",
        "# Checking Time Difference\n",
        "time_30_mins = time_diff(dist_above_20)\n",
        "\n",
        "\n",
        "# Remove counter/id & Print result\n",
        "print(fraud(time_30_mins, read_csv()))\n",
        "\n",
        "# Baseline for Enhancement 2.281092 (lowest)"
      ]
    },
    {
      "cell_type": "code",
      "execution_count": null,
      "metadata": {
        "id": "Syu2FJjuyffB"
      },
      "outputs": [],
      "source": []
    }
  ],
  "metadata": {
    "colab": {
      "provenance": []
    },
    "kernelspec": {
      "display_name": "Python 3",
      "name": "python3"
    },
    "language_info": {
      "codemirror_mode": {
        "name": "ipython",
        "version": 3
      },
      "file_extension": ".py",
      "mimetype": "text/x-python",
      "name": "python",
      "nbconvert_exporter": "python",
      "pygments_lexer": "ipython3",
      "version": "3.9.6"
    }
  },
  "nbformat": 4,
  "nbformat_minor": 0
}
